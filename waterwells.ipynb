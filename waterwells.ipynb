{
 "cells": [
  {
   "cell_type": "markdown",
   "id": "4d059b35-48e7-4639-a806-02b1ab908d1e",
   "metadata": {},
   "source": [
    "# Predicting Water Well conditions in Tanzania\n"
   ]
  },
  {
   "cell_type": "markdown",
   "id": "8ec40ea3-4c08-4ff2-a50a-2faedbfe0a4a",
   "metadata": {},
   "source": [
    "## 1.Business understanding"
   ]
  },
  {
   "cell_type": "markdown",
   "id": "463cbb93-1bfd-409b-9f24-cec98cb4f53b",
   "metadata": {},
   "source": [
    "### Problem Statement"
   ]
  },
  {
   "cell_type": "markdown",
   "id": "031f003b-0286-4875-ba0b-0644b67093c5",
   "metadata": {},
   "source": [
    "The scarcity of clean and potable water remains a significant problem in many communities throughout Tanzania. In response, the Tanzanian Ministry of Water has established numerous water wells nationwide. Unfortunately, not all of these wells are operating effectively, leaving some communities without access to clean water."
   ]
  },
  {
   "cell_type": "markdown",
   "id": "91d85850-116b-4eee-ae1b-70449ea055fd",
   "metadata": {},
   "source": [
    "### Goal"
   ]
  },
  {
   "cell_type": "markdown",
   "id": "5fea5c80-7da0-4514-8a4d-8498ae521e76",
   "metadata": {},
   "source": [
    "The aim of this project is to develop a predictive model that can accurately assess the condition of water wells in Tanzania using data from Taarifa and the Tanzanian Ministry of Water. The model will predict which pumps are fully operational, which require repairs, and which are non-functional.\n",
    "\n",
    "The ultimate goal is to enhance maintenance efforts and ensure that communities across Tanzania have reliable access to clean and potable water."
   ]
  },
  {
   "cell_type": "markdown",
   "id": "eb3e9c22-88bf-491d-a4f0-9a4982b086d2",
   "metadata": {},
   "source": [
    "### Objectives"
   ]
  },
  {
   "cell_type": "markdown",
   "id": "d48dbe53-9e52-4bba-9921-533dd624351e",
   "metadata": {},
   "source": [
    "#### Main Objective\n"
   ]
  },
  {
   "cell_type": "markdown",
   "id": "4af6f60e-0ad8-4c70-ba1e-a860c219f973",
   "metadata": {},
   "source": [
    "To predict the condition of water wells in Tanzania to ensure that clean and portable water is available to communities across Tanzania."
   ]
  },
  {
   "cell_type": "markdown",
   "id": "a9f60455-7d19-4b81-bc26-85f90726ad47",
   "metadata": {},
   "source": [
    "#### Specific Objective"
   ]
  },
  {
   "cell_type": "markdown",
   "id": "287cf8bc-2be0-4686-a980-6dcbf0d48bbb",
   "metadata": {},
   "source": [
    "1. To understand the problem statement and the goal of the objective.\n",
    "2. To identify the variables that can impact the functionality of water wells.\n",
    "3. To determine the target variable (functional, need repairs, or non-functional)"
   ]
  },
  {
   "cell_type": "markdown",
   "id": "79b8f158-fa43-4c2e-a9cf-f9d958b78c84",
   "metadata": {},
   "source": [
    "### Metric of success."
   ]
  },
  {
   "cell_type": "markdown",
   "id": "8b10e2aa-a44c-4e36-9021-b4a3cd04cdf5",
   "metadata": {},
   "source": [
    "The model will be considered a success when it achieves an accuracy and f1 score between 0.8 to 1"
   ]
  },
  {
   "cell_type": "markdown",
   "id": "4397bb84-af96-4fca-9e43-ae82836544c2",
   "metadata": {},
   "source": [
    "### Data Description"
   ]
  },
  {
   "cell_type": "markdown",
   "id": "5d84429d-e78b-4e30-ae69-ee5c6da29352",
   "metadata": {},
   "source": [
    "amount_tsh - Total static head (amount water available to waterpoint)\n",
    "\n",
    "date_recorded - The date the row was entered\n",
    "\n",
    "funder - Who funded the well\n",
    "\n",
    "gps_height - Altitude of the well\n",
    "\n",
    "installer - Organization that installed the well\n",
    "\n",
    "longitude - GPS coordinate\n",
    "\n",
    "latitude - GPS coordinate\n",
    "\n",
    "wpt_name - Name of the waterpoint if there is one\n",
    "\n",
    "num_private -\n",
    "\n",
    "basin - Geographic water basin\n",
    "\n",
    "subvillage - Geographic location\n",
    "\n",
    "region - Geographic location\n",
    "\n",
    "region_code - Geographic location (coded)\n",
    "\n",
    "district_code - Geographic location (coded)\n",
    "\n",
    "lga - Geographic location\n",
    "\n",
    "ward - Geographic location\n",
    "\n",
    "population - Population around the well\n",
    "\n",
    "public_meeting - True/False\n",
    "\n",
    "recorded_by - Group entering this row of data\n",
    "\n",
    "scheme_management - Who operates the waterpoint\n",
    "\n",
    "scheme_name - Who operates the waterpoint\n",
    "\n",
    "permit - If the waterpoint is permitted\n",
    "\n",
    "construction_year - Year the waterpoint was constructed\n",
    "\n",
    "extraction_type - The kind of extraction the waterpoint uses\n",
    "\n",
    "extraction_type_group - The kind of extraction the waterpoint uses\n",
    "\n",
    "extraction_type_class - The kind of extraction the waterpoint uses\n",
    "\n",
    "management - How the waterpoint is managed\n",
    "\n",
    "management_group - How the waterpoint is managed\n",
    "\n",
    "payment - What the water costs\n",
    "\n",
    "payment_type - What the water costs\n",
    "\n",
    "water_quality - The quality of the water\n",
    "\n",
    "quality_group - The quality of the water\n",
    "\n",
    "quantity - The quantity of water\n",
    "\n",
    "quantity_group - The quantity of water\n",
    "\n",
    "source - The source of the water\n",
    "\n",
    "source_type - The source of the water\n",
    "\n",
    "source_class - The source of the water\n",
    "\n",
    "waterpoint_type - The kind of waterpoint\n",
    "\n",
    "waterpoint_type_group - The kind of waterpoint"
   ]
  },
  {
   "cell_type": "markdown",
   "id": "c04f6c8b-93db-4b31-9979-898975a90848",
   "metadata": {},
   "source": [
    "### Distribution of Target Column"
   ]
  },
  {
   "cell_type": "markdown",
   "id": "076e04b5-a490-477a-91d4-747abe8608cb",
   "metadata": {},
   "source": [
    "There are three possible values:\n",
    "\n",
    "1.functional - the waterpoint is operational and there are no repairs needed\n",
    "\n",
    "2.functional needs repair - the waterpoint is operational, but needs repairs\n",
    "\n",
    "3.non functional - the waterpoint is not operational"
   ]
  },
  {
   "cell_type": "markdown",
   "id": "d4a3f687-2689-44f1-9be3-11ee1daf45e4",
   "metadata": {},
   "source": [
    "### Technique used (CRISP_ DM)\n"
   ]
  },
  {
   "cell_type": "markdown",
   "id": "811f3e68-9535-4ec0-903d-1dbb641d43c9",
   "metadata": {},
   "source": [
    "1.Business Understanding\n",
    "\n",
    "2.Data Understanding\n",
    "\n",
    "3.Data Preparation\n",
    "\n",
    "4.Modelling and evaluation\n",
    "\n",
    "5.External validation\n",
    "\n",
    "6.Challenging the solution\n",
    "\n",
    "7.Conclussions and Recommendations."
   ]
  },
  {
   "cell_type": "markdown",
   "id": "4ecb4e75-1cb5-46a2-ba1c-b2580fcd9d84",
   "metadata": {},
   "source": [
    "## Data Understanding"
   ]
  },
  {
   "cell_type": "markdown",
   "id": "238cd2bf-8f4a-4421-bdf7-8eacf1cb3f4b",
   "metadata": {},
   "source": [
    "### 2.1 Importing libraries"
   ]
  },
  {
   "cell_type": "code",
   "execution_count": 2,
   "id": "79d06c6e-c3c7-4e93-acda-2df1bf7a4464",
   "metadata": {},
   "outputs": [],
   "source": [
    "# Importing necessary libraries\n",
    "# Data Manipulation and Visualization\n",
    "import pandas as pd\n",
    "import numpy as np\n",
    "import seaborn as sns\n",
    "import matplotlib.pyplot as plt\n",
    "\n",
    "# Preprocessing and Data Transforming\n",
    "from sklearn.preprocessing import LabelEncoder\n",
    "from sklearn.impute import SimpleImputer\n",
    "\n",
    "# Building Machine Learning Models\n",
    "from sklearn.model_selection import train_test_split\n",
    "from sklearn.linear_model import LogisticRegression\n",
    "from sklearn.neighbors import KNeighborsClassifier\n",
    "from sklearn.tree import DecisionTreeClassifier\n",
    "from sklearn.ensemble import RandomForestClassifier, GradientBoostingClassifier\n",
    "from sklearn.svm import SVC\n",
    "from sklearn.preprocessing import MinMaxScaler\n",
    "\n",
    "# Hyperparameter Tuning\n",
    "from sklearn.model_selection import RandomizedSearchCV\n",
    "\n",
    "# Performance Evaluation\n",
    "from sklearn.metrics import accuracy_score, f1_score, classification_report\n",
    "\n",
    "import warnings\n",
    "warnings.filterwarnings('ignore')"
   ]
  },
  {
   "cell_type": "markdown",
   "id": "08580b6a-9015-46a8-ba2f-38af2e89bd12",
   "metadata": {},
   "source": [
    "### 2.2 Loading the Dataset"
   ]
  },
  {
   "cell_type": "code",
   "execution_count": 15,
   "id": "f32d9a7b-75b8-4034-b32f-c420fa0e1683",
   "metadata": {
    "scrolled": true
   },
   "outputs": [
    {
     "ename": "SyntaxError",
     "evalue": "unterminated string literal (detected at line 2) (1324155604.py, line 2)",
     "output_type": "error",
     "traceback": [
      "\u001b[1;36m  Cell \u001b[1;32mIn[15], line 2\u001b[1;36m\u001b[0m\n\u001b[1;33m    train_values =  pd.read_csv('.Downloads/TrainingSetValues.csv,encoding='ISO-8859-1')\u001b[0m\n\u001b[1;37m                                                                                      ^\u001b[0m\n\u001b[1;31mSyntaxError\u001b[0m\u001b[1;31m:\u001b[0m unterminated string literal (detected at line 2)\n"
     ]
    }
   ],
   "source": [
    "# Load the training set values and training set labels\n",
    "train_values =  pd.read_csv('.Downloads/TrainingSetValues.csv,encoding='ISO-8859-1')\n",
    "train_labels = pd.read_csv('0bf8bc6e-30d0-4c50-956a-603fc693d966.csv')\n",
    "test_df = pd.read_csv('702ddfc5-68cd-4d1d-a0de-f5f566f76d91.csv')\n",
    "\n",
    "# Merge the two datasets\n",
    "train_df = pd.merge(train_values, train_labels, on='id')"
   ]
  },
  {
   "cell_type": "code",
   "execution_count": null,
   "id": "1069adfc-98b8-44ab-b433-114cad1a04a2",
   "metadata": {},
   "outputs": [],
   "source": []
  }
 ],
 "metadata": {
  "kernelspec": {
   "display_name": "Python (learn-env)",
   "language": "python",
   "name": "learn-env"
  },
  "language_info": {
   "codemirror_mode": {
    "name": "ipython",
    "version": 3
   },
   "file_extension": ".py",
   "mimetype": "text/x-python",
   "name": "python",
   "nbconvert_exporter": "python",
   "pygments_lexer": "ipython3",
   "version": "3.11.9"
  }
 },
 "nbformat": 4,
 "nbformat_minor": 5
}
